{
 "cells": [
  {
   "cell_type": "markdown",
   "id": "9323032c",
   "metadata": {},
   "source": [
    "# Dataset split generation\n",
    "Roughly 70% in train, 10% in val and 20% in test.  \n",
    "One vehicle (`sedna`) is entirely removed from train and val, and only used in test. This is to measure the performance on an unseen vehicle, with different camera calibration.\n",
    "\n",
    "\n",
    "__Count of number of samples per vehicle__  \n",
    "\n",
    "| vehicle | poseidon | sedna | nammu | brizo | neptune | ebisu |\n",
    "|:--------|:---------|:------|:------|:------|:--------|:------|\n",
    "| count   | 6156     | 5191  | 5180  | 3347  | 1729    | 603   |"
   ]
  },
  {
   "cell_type": "code",
   "execution_count": 137,
   "id": "1745c836",
   "metadata": {},
   "outputs": [],
   "source": [
    "from pathlib import Path\n",
    "import pandas as pd\n",
    "from sklearn.model_selection import train_test_split"
   ]
  },
  {
   "cell_type": "code",
   "execution_count": 138,
   "id": "099df20d",
   "metadata": {},
   "outputs": [
    {
     "name": "stdout",
     "output_type": "stream",
     "text": [
      "Found 22206 images.\n"
     ]
    },
    {
     "data": {
      "text/html": [
       "<div>\n",
       "<style scoped>\n",
       "    .dataframe tbody tr th:only-of-type {\n",
       "        vertical-align: middle;\n",
       "    }\n",
       "\n",
       "    .dataframe tbody tr th {\n",
       "        vertical-align: top;\n",
       "    }\n",
       "\n",
       "    .dataframe thead th {\n",
       "        text-align: right;\n",
       "    }\n",
       "</style>\n",
       "<table border=\"1\" class=\"dataframe\">\n",
       "  <thead>\n",
       "    <tr style=\"text-align: right;\">\n",
       "      <th></th>\n",
       "      <th>file</th>\n",
       "      <th>run_id</th>\n",
       "      <th>vehicle</th>\n",
       "    </tr>\n",
       "  </thead>\n",
       "  <tbody>\n",
       "    <tr>\n",
       "      <th>0</th>\n",
       "      <td>/mnt/remote/data/users/thomasssajot/yolo_datas...</td>\n",
       "      <td>nammu/2019-12-02--09-31-11--Neil</td>\n",
       "      <td>nammu</td>\n",
       "    </tr>\n",
       "    <tr>\n",
       "      <th>1</th>\n",
       "      <td>/mnt/remote/data/users/thomasssajot/yolo_datas...</td>\n",
       "      <td>nammu/2019-12-02--09-31-11--Neil</td>\n",
       "      <td>nammu</td>\n",
       "    </tr>\n",
       "    <tr>\n",
       "      <th>2</th>\n",
       "      <td>/mnt/remote/data/users/thomasssajot/yolo_datas...</td>\n",
       "      <td>nammu/2019-12-02--09-31-11--Neil</td>\n",
       "      <td>nammu</td>\n",
       "    </tr>\n",
       "    <tr>\n",
       "      <th>3</th>\n",
       "      <td>/mnt/remote/data/users/thomasssajot/yolo_datas...</td>\n",
       "      <td>nammu/2019-12-02--09-31-11--Neil</td>\n",
       "      <td>nammu</td>\n",
       "    </tr>\n",
       "    <tr>\n",
       "      <th>4</th>\n",
       "      <td>/mnt/remote/data/users/thomasssajot/yolo_datas...</td>\n",
       "      <td>nammu/2019-12-02--09-31-11--Neil</td>\n",
       "      <td>nammu</td>\n",
       "    </tr>\n",
       "  </tbody>\n",
       "</table>\n",
       "</div>"
      ],
      "text/plain": [
       "                                                file  \\\n",
       "0  /mnt/remote/data/users/thomasssajot/yolo_datas...   \n",
       "1  /mnt/remote/data/users/thomasssajot/yolo_datas...   \n",
       "2  /mnt/remote/data/users/thomasssajot/yolo_datas...   \n",
       "3  /mnt/remote/data/users/thomasssajot/yolo_datas...   \n",
       "4  /mnt/remote/data/users/thomasssajot/yolo_datas...   \n",
       "\n",
       "                             run_id vehicle  \n",
       "0  nammu/2019-12-02--09-31-11--Neil   nammu  \n",
       "1  nammu/2019-12-02--09-31-11--Neil   nammu  \n",
       "2  nammu/2019-12-02--09-31-11--Neil   nammu  \n",
       "3  nammu/2019-12-02--09-31-11--Neil   nammu  \n",
       "4  nammu/2019-12-02--09-31-11--Neil   nammu  "
      ]
     },
     "execution_count": 138,
     "metadata": {},
     "output_type": "execute_result"
    }
   ],
   "source": [
    "images = Path(\n",
    "    '/mnt/remote/data/users/thomasssajot/yolo_dataset/traffic_lights_2020/distorted/images'\n",
    ").glob(\n",
    "    '**/*.jpeg'\n",
    ")\n",
    "\n",
    "images = list(images)\n",
    "print(f'Found {len(images)} images.')\n",
    "\n",
    "distrib = pd.DataFrame(\n",
    "    [{\n",
    "        'file':f, \n",
    "        'run_id': f.parent.relative_to(f.parent.parent.parent), \n",
    "        'vehicle': f.parent.parent.name\n",
    "    } for f in images]\n",
    ")\n",
    "distrib.head()"
   ]
  },
  {
   "cell_type": "code",
   "execution_count": 96,
   "id": "979451a6",
   "metadata": {},
   "outputs": [
    {
     "name": "stdout",
     "output_type": "stream",
     "text": [
      "Count of samples per vehicle\n"
     ]
    },
    {
     "data": {
      "text/plain": [
       "vehicle\n",
       "poseidon    6156\n",
       "sedna       5191\n",
       "nammu       5180\n",
       "brizo       3347\n",
       "neptune     1729\n",
       "ebisu        603\n",
       "dtype: int64"
      ]
     },
     "execution_count": 96,
     "metadata": {},
     "output_type": "execute_result"
    }
   ],
   "source": [
    "print('Count of samples per vehicle')\n",
    "distrib.value_counts('vehicle')"
   ]
  },
  {
   "cell_type": "code",
   "execution_count": 142,
   "id": "ca1a1030",
   "metadata": {},
   "outputs": [],
   "source": [
    "def generate_tiny_dataset_split():\n",
    "    size = 128\n",
    "    train_set = distrib.sample(size, random_state=123)\n",
    "    return train_set"
   ]
  },
  {
   "cell_type": "code",
   "execution_count": 148,
   "id": "33218c6f",
   "metadata": {},
   "outputs": [],
   "source": [
    "def generate_dataset_split():\n",
    "    # Define dataset sizes\n",
    "    size = len(distrib)\n",
    "    train_size = int(size * .7)\n",
    "    test_size = int(size * .2)\n",
    "    val_size = size - train_size - test_size\n",
    "    print(f'Train/val/test split:        '\n",
    "         f'({train_size:5g}, {val_size:5g}, {test_size:5g})')\n",
    "    print(\n",
    "        f'Train/val/test split (in %): '\n",
    "        f'({train_size / size * 100 :5.1f}, {val_size / size * 100 :5.1f}, {test_size / size * 100 :5.1f})'\n",
    "    )\n",
    "    \n",
    "    # Isolate `ebisu` vehicle for test set\n",
    "    # ensure we have a car not included in the training set\n",
    "    single_vehicle_test_set = distrib.query('vehicle == \"ebisu\"')\n",
    "    remaining_test_set_size = test_size - len(single_vehicle_test_set)\n",
    "    distrib_without_ebisu = distrib.query('vehicle != \"ebisu\"').reset_index(drop=True)\n",
    "    \n",
    "    stratification = distrib_without_ebisu['run_id'].astype(str)\n",
    "    counts = stratification.value_counts()\n",
    "    stratification[stratification.isin(counts[counts <= 10].index.tolist())] = 'few'\n",
    "\n",
    "    # Generate remaining train/val/test split\n",
    "    train_set, val_test_set = train_test_split(\n",
    "        distrib_without_ebisu,\n",
    "        test_size=val_size + remaining_test_set_size,\n",
    "        train_size=train_size,\n",
    "        random_state=123,\n",
    "        shuffle=True,\n",
    "        stratify=stratification\n",
    "    )\n",
    "\n",
    "    val_set, complementary_test_set = train_test_split(\n",
    "        val_test_set,\n",
    "        train_size=val_size,\n",
    "        test_size=remaining_test_set_size,\n",
    "        random_state=123,\n",
    "        shuffle=True\n",
    "    )\n",
    "\n",
    "    test_set = pd.concat([single_vehicle_test_set, complementary_test_set])\n",
    "\n",
    "\n",
    "    print(f'Actual Train/val/test split: '\n",
    "         f'({len(train_set):5g}, {len(val_set):5g}, {len(test_set):5g})')\n",
    "\n",
    "    assert (len(train_set), len(val_set), len(test_set)) == (train_size, val_size, test_size)\n",
    "    return train_set, val_set, test_set"
   ]
  },
  {
   "cell_type": "markdown",
   "id": "55f45816",
   "metadata": {},
   "source": [
    "# Save files .txt"
   ]
  },
  {
   "cell_type": "code",
   "execution_count": 150,
   "id": "714b04cb",
   "metadata": {
    "scrolled": false
   },
   "outputs": [
    {
     "name": "stdout",
     "output_type": "stream",
     "text": [
      "Train/val/test split:        (15544,  2221,  4441)\n",
      "Train/val/test split (in %): ( 70.0,  10.0,  20.0)\n",
      "Actual Train/val/test split: (15544,  2221,  4441)\n"
     ]
    }
   ],
   "source": [
    "root = Path('/mnt/remote/data/users/thomasssajot/yolo_dataset/traffic_lights_2020/distorted/')\n",
    "train_file = root / 'train.txt'\n",
    "test_file = root / 'test.txt'\n",
    "val_file = root / 'val.txt'\n",
    "\n",
    "\n",
    "for file_name, dataset in zip([train_file, val_file, test_file], generate_dataset_split()):\n",
    "    data = '\\n'.join(dataset['file'].astype(str)) + '\\n'\n",
    "    with file_name.open('w') as f:\n",
    "        f.write(data)"
   ]
  }
 ],
 "metadata": {
  "kernelspec": {
   "display_name": "Python 3 (ipykernel)",
   "language": "python",
   "name": "python3"
  },
  "language_info": {
   "codemirror_mode": {
    "name": "ipython",
    "version": 3
   },
   "file_extension": ".py",
   "mimetype": "text/x-python",
   "name": "python",
   "nbconvert_exporter": "python",
   "pygments_lexer": "ipython3",
   "version": "3.9.13"
  }
 },
 "nbformat": 4,
 "nbformat_minor": 5
}
